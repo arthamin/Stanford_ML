{
 "cells": [
  {
   "cell_type": "code",
   "execution_count": 120,
   "metadata": {},
   "outputs": [],
   "source": [
    "import numpy as np\n",
    "import matplotlib.pyplot as plt\n",
    "import math\n",
    "import copy"
   ]
  },
  {
   "cell_type": "code",
   "execution_count": 121,
   "metadata": {},
   "outputs": [],
   "source": [
    "x_train = np.array([[2104, 5, 1, 45], [1416, 3, 2, 40], [852, 2, 1, 35]])\n",
    "y_train = np.array([460, 232, 178])"
   ]
  },
  {
   "cell_type": "code",
   "execution_count": 122,
   "metadata": {},
   "outputs": [],
   "source": [
    "def compute_cost(x, y, w, b):\n",
    "\n",
    "    m = x.shape[0]\n",
    "    cost = 0\n",
    "\n",
    "    for i in range(m):\n",
    "        f_wb = np.dot(w,x[i]) + b\n",
    "\n",
    "        cost += (f_wb - y[i]) ** 2\n",
    "    \n",
    "    cost *= 1/(2*m)\n",
    "\n",
    "    return cost"
   ]
  },
  {
   "cell_type": "code",
   "execution_count": 123,
   "metadata": {},
   "outputs": [],
   "source": [
    "def compute_gradient(x, y, w, b):\n",
    "\n",
    "    m,n = x.shape\n",
    "    dj_dw = np.zeros(n)\n",
    "    dj_db = 0\n",
    "\n",
    "    for i in range(m):\n",
    "        f_wb = np.dot(w,x[i]) + b\n",
    "        for j in range(n):\n",
    "            dj_dw[j] += (f_wb - y[i]) * x[i, j]\n",
    "        \n",
    "        dj_db = f_wb - y[i]\n",
    "    \n",
    "    dj_dw /= m\n",
    "    dj_db /= m\n",
    "\n",
    "    return dj_dw, dj_db"
   ]
  },
  {
   "cell_type": "code",
   "execution_count": 131,
   "metadata": {},
   "outputs": [],
   "source": [
    "def gradient_descent(x, y, w_in, b_in, alpha, epoch):\n",
    "\n",
    "    w = copy.deepcopy(w_in)\n",
    "    b = b_in\n",
    "    j_history = []\n",
    "\n",
    "    for i in range(epoch):\n",
    "\n",
    "        dj_dw, dj_db = compute_gradient(x, y, w, b)\n",
    "\n",
    "        w = w - alpha*dj_dw\n",
    "        b = b - alpha*dj_db\n",
    "\n",
    "        if i < 10000:\n",
    "            j_history.append(compute_cost(x,y,w,b))\n",
    "        \n",
    "        if i% math.ceil(epoch/10) == 0:\n",
    "\n",
    "            print(f\"Epoch: {i:4}: Cost: {j_history[-1]:0.3e} \")\n",
    "    \n",
    "    return w, b, j_history\n"
   ]
  },
  {
   "cell_type": "code",
   "execution_count": 133,
   "metadata": {},
   "outputs": [
    {
     "name": "stdout",
     "output_type": "stream",
     "text": [
      "Epoch:    0: Cost: 2.529e+03 \n",
      "Epoch: 1000: Cost: 6.867e+02 \n",
      "Epoch: 2000: Cost: 6.772e+02 \n",
      "Epoch: 3000: Cost: 6.685e+02 \n",
      "Epoch: 4000: Cost: 6.606e+02 \n",
      "Epoch: 5000: Cost: 6.533e+02 \n",
      "Epoch: 6000: Cost: 6.466e+02 \n",
      "Epoch: 7000: Cost: 6.404e+02 \n",
      "Epoch: 8000: Cost: 6.348e+02 \n",
      "Epoch: 9000: Cost: 6.296e+02 \n",
      "(w,b) found by gradient descent: w: [ 0.2169833   0.0324094  -0.10757042 -0.58021256]; b:   0.0164\n",
      "Predicted value: 430.4941425547218; Target value: 460\n",
      "Predicted value: 283.93830847698445; Target value: 232\n",
      "Predicted value: 164.53595335260516; Target value: 178\n"
     ]
    }
   ],
   "source": [
    "w_initial = np.zeros(x_train.shape[1])\n",
    "b_initial = 0\n",
    "alpha = 5e-7\n",
    "epoch = 100000\n",
    "\n",
    "w_final, b_final, j_hist = gradient_descent(x_train, y_train, w_initial, b_initial, alpha, epoch)\n",
    "\n",
    "print(f\"(w,b) found by gradient descent: w: {w_final}; b: {b_final:8.4f}\")\n",
    "\n",
    "m = x_train.shape[0]\n",
    "\n",
    "for i in range(m):\n",
    "\n",
    "    print(f\"Predicted value: {np.dot(w_final, x_train[i]) + b_final}; Target value: {y_train[i]}\")"
   ]
  },
  {
   "cell_type": "code",
   "execution_count": null,
   "metadata": {},
   "outputs": [],
   "source": []
  }
 ],
 "metadata": {
  "kernelspec": {
   "display_name": "Python 3",
   "language": "python",
   "name": "python3"
  },
  "language_info": {
   "codemirror_mode": {
    "name": "ipython",
    "version": 3
   },
   "file_extension": ".py",
   "mimetype": "text/x-python",
   "name": "python",
   "nbconvert_exporter": "python",
   "pygments_lexer": "ipython3",
   "version": "3.9.2"
  }
 },
 "nbformat": 4,
 "nbformat_minor": 2
}
