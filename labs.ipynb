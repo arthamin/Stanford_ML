{
 "cells": [
  {
   "cell_type": "code",
   "execution_count": 2,
   "id": "96e7a4c3",
   "metadata": {},
   "outputs": [],
   "source": [
    "import numpy as np\n",
    "import matplotlib.pyplot as plt"
   ]
  },
  {
   "cell_type": "code",
   "execution_count": 3,
   "id": "b6bc5696",
   "metadata": {},
   "outputs": [],
   "source": [
    "x_train = np.array([3.74, 7.13, 4.52, 5.39, 1.99, 4.47, 2.79, 7.72, 8.27, 5.55, 9.81, 1.98, 5.58, 4.26, 6.12, 8.45, 3.88, 7.78, 6.06, 9.32])\n",
    "y_train = np.array([8.18, 15.36, 10.04, 11.78, 4.98, 9.94, 6.58, 16.44, 17.54, 12.1, 20.62, 4.96, 12.16, 9.52, 13.24, 17.9, 8.76, 16.56, 13.12, 19.64])"
   ]
  },
  {
   "cell_type": "code",
   "execution_count": 4,
   "id": "1971cb3d",
   "metadata": {},
   "outputs": [],
   "source": [
    "def cost_function(x, y, w, b):\n",
    "\n",
    "    m = x_train.shape[0]\n",
    "    cost_sum = 0\n",
    "\n",
    "    for i in range(m):\n",
    "\n",
    "        f_wb = w*x[i] + b\n",
    "        cost = (f_wb - y[i]) ** 2\n",
    "        cost_sum += cost\n",
    "    \n",
    "    total_cost = 1/(2*m) * cost_sum\n",
    "\n",
    "    return total_cost"
   ]
  },
  {
   "cell_type": "code",
   "execution_count": 5,
   "id": "1c3b5a08",
   "metadata": {},
   "outputs": [],
   "source": [
    "def compute_gradient(x, y, w, b):\n",
    "\n",
    "    m = x_train.shape[0]\n",
    "    dj_dw = 0\n",
    "    dj_db = 0\n",
    "\n",
    "    for i in range(m):\n",
    "\n",
    "        f_wb = w*x[i] + b\n",
    "\n",
    "        dj_dw_i = (f_wb - y[i]) * x[i]\n",
    "        dj_db_i = (f_wb - y[i])\n",
    "\n",
    "        dj_dw += dj_dw_i\n",
    "        dj_db += dj_db_i\n",
    "    \n",
    "    dj_dw /= m\n",
    "    dj_db /= m\n",
    "\n",
    "    return dj_dw, dj_db"
   ]
  },
  {
   "cell_type": "code",
   "execution_count": 6,
   "id": "f633664e",
   "metadata": {},
   "outputs": [],
   "source": [
    "def gradient_descent(x, y, w_in, b_in, alpha, epoch, J_hist, P_hist):\n",
    "\n",
    "    m = x_train.shape[0]\n",
    "    w = w_in\n",
    "    b = b_in\n",
    "    J_hist = []\n",
    "    P_hist = []\n",
    "\n",
    "    for i in range(epoch):\n",
    "\n",
    "        dj_dw, dj_db = compute_gradient(x, y, w, b)\n",
    "\n",
    "        w = w - alpha*dj_dw\n",
    "        b = b - alpha*dj_db\n",
    "\n",
    "        if i < 100000:\n",
    "            J_hist.append(cost_function(x,y,w,b))\n",
    "            P_hist.append([w,b])\n",
    "\n",
    "            if i % 1000 == 0:\n",
    "\n",
    "                print(f\"Cost: {J_hist[-1]:8.4f}, w: {w:0.3e}, b: {b:0.3e}, dj_dw: {dj_dw:0.2e}, dj_db: {dj_db:0.2e}\")\n",
    "    \n",
    "    return w, b, J_hist, P_hist"
   ]
  },
  {
   "cell_type": "code",
   "execution_count": 7,
   "id": "48bcab40",
   "metadata": {},
   "outputs": [
    {
     "name": "stdout",
     "output_type": "stream",
     "text": [
      "Cost: 29618185.4176, w: 1.221e+03, b: 1.823e+02, dj_dw: 7.79e+04, dj_db: 1.18e+04\n",
      "Cost:   0.0412, w: 2.122e+00, b: 1.913e-01, dj_dw: 1.52e-02, dj_db: -1.00e-01\n",
      "Cost:   0.0051, w: 2.038e+00, b: 7.475e-01, dj_dw: 4.04e-03, dj_db: -2.67e-02\n",
      "Cost:   0.0025, w: 2.015e+00, b: 8.954e-01, dj_dw: 1.07e-03, dj_db: -7.10e-03\n",
      "Cost:   0.0023, w: 2.009e+00, b: 9.347e-01, dj_dw: 2.85e-04, dj_db: -1.89e-03\n",
      "Cost:   0.0023, w: 2.008e+00, b: 9.451e-01, dj_dw: 7.58e-05, dj_db: -5.02e-04\n",
      "Cost:   0.0023, w: 2.007e+00, b: 9.479e-01, dj_dw: 2.02e-05, dj_db: -1.33e-04\n",
      "Cost:   0.0023, w: 2.007e+00, b: 9.486e-01, dj_dw: 5.36e-06, dj_db: -3.54e-05\n",
      "Cost:   0.0023, w: 2.007e+00, b: 9.488e-01, dj_dw: 1.42e-06, dj_db: -9.42e-06\n",
      "Cost:   0.0023, w: 2.007e+00, b: 9.489e-01, dj_dw: 3.79e-07, dj_db: -2.50e-06\n",
      "Cost:   0.0023, w: 2.007e+00, b: 9.489e-01, dj_dw: 1.01e-07, dj_db: -6.66e-07\n",
      "Cost:   0.0023, w: 2.007e+00, b: 9.489e-01, dj_dw: 2.68e-08, dj_db: -1.77e-07\n",
      "Cost:   0.0023, w: 2.007e+00, b: 9.489e-01, dj_dw: 7.11e-09, dj_db: -4.71e-08\n",
      "Cost:   0.0023, w: 2.007e+00, b: 9.489e-01, dj_dw: 1.89e-09, dj_db: -1.25e-08\n",
      "Cost:   0.0023, w: 2.007e+00, b: 9.489e-01, dj_dw: 5.03e-10, dj_db: -3.33e-09\n",
      "Cost:   0.0023, w: 2.007e+00, b: 9.489e-01, dj_dw: 1.34e-10, dj_db: -8.84e-10\n",
      "Cost:   0.0023, w: 2.007e+00, b: 9.489e-01, dj_dw: 3.55e-11, dj_db: -2.35e-10\n",
      "Cost:   0.0023, w: 2.007e+00, b: 9.489e-01, dj_dw: 9.45e-12, dj_db: -6.25e-11\n",
      "Cost:   0.0023, w: 2.007e+00, b: 9.489e-01, dj_dw: 2.51e-12, dj_db: -1.66e-11\n",
      "Cost:   0.0023, w: 2.007e+00, b: 9.489e-01, dj_dw: 6.78e-13, dj_db: -4.41e-12\n"
     ]
    }
   ],
   "source": [
    "w_initial = 2000\n",
    "b_inital = 300\n",
    "alpha = 0.01\n",
    "epoch = 20000\n",
    "J_hist = []\n",
    "P_hist = []\n",
    "\n",
    "w, b, J_hist, P_hist = gradient_descent(x_train, y_train, w_initial, b_inital, alpha, epoch, J_hist, P_hist)\n",
    "\n"
   ]
  },
  {
   "cell_type": "code",
   "execution_count": 8,
   "id": "85acebfe",
   "metadata": {},
   "outputs": [],
   "source": [
    "def compute_output(x, y, w, b):\n",
    "\n",
    "    m = x_train.shape[0]\n",
    "    f_wb = np.zeros(m)\n",
    "\n",
    "    for i in range(m):\n",
    "\n",
    "        f_wb[i] = w*x[i] + b\n",
    "    \n",
    "    return f_wb"
   ]
  },
  {
   "cell_type": "code",
   "execution_count": 10,
   "id": "010fe1ce",
   "metadata": {},
   "outputs": [
    {
     "data": {
      "image/png": "[encoded data removed]",
      "text/plain": [
       "<Figure size 640x480 with 1 Axes>"
      ]
     },
     "metadata": {},
     "output_type": "display_data"
    }
   ],
   "source": [
    "plt.scatter(x_train, y_train, marker='x', c='r', label='Actual values')\n",
    "plt.xlabel('Input features')\n",
    "plt.ylabel('Targets')\n",
    "\n",
    "f_wb = compute_output(x_train, y_train, w, b)\n",
    "\n",
    "plt.plot(x_train, f_wb, c='b', label='Prediction')\n",
    "plt.legend()\n",
    "plt.show()\n"
   ]
  }
 ],
 "metadata": {
  "kernelspec": {
   "display_name": "Python 3",
   "language": "python",
   "name": "python3"
  },
  "language_info": {
   "codemirror_mode": {
    "name": "ipython",
    "version": 3
   },
   "file_extension": ".py",
   "mimetype": "text/x-python",
   "name": "python",
   "nbconvert_exporter": "python",
   "pygments_lexer": "ipython3",
   "version": "3.9.2"
  }
 },
 "nbformat": 4,
 "nbformat_minor": 5
}
