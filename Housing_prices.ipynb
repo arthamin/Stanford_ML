{
 "cells": [
  {
   "cell_type": "code",
   "execution_count": null,
   "id": "7acd1a06",
   "metadata": {},
   "outputs": [],
   "source": [
    "import numpy as np\n",
    "import matplotlib.pyplot as plt\n",
    "import pandas as pd"
   ]
  },
  {
   "cell_type": "code",
   "execution_count": 56,
   "id": "dc127cf1",
   "metadata": {},
   "outputs": [],
   "source": [
    "df = pd.read_csv('/home/delux/Загрузки/kc_house_data.csv')"
   ]
  },
  {
   "cell_type": "code",
   "execution_count": 57,
   "id": "e1334f4a",
   "metadata": {},
   "outputs": [
    {
     "data": {
      "text/plain": [
       "2498"
      ]
     },
     "execution_count": 57,
     "metadata": {},
     "output_type": "execute_result"
    }
   ],
   "source": [
    "x_train = df[['sqft_living15']].values\n",
    "y_train = df['price'].values\n",
    "\n",
    "x_train = (x_train - np.mean(x_train)) / np.std(x_train)\n",
    "y_train = (y_train - np.mean(y_train)) / np.std(y_train)\n",
    "\n",
    "x_train.shape[0]"
   ]
  },
  {
   "cell_type": "code",
   "execution_count": 58,
   "id": "49f453d3",
   "metadata": {},
   "outputs": [],
   "source": [
    "def compute_cost(x, y, w, b):\n",
    "\n",
    "    m = x.shape[0]\n",
    "    cost_sum = 0\n",
    "\n",
    "    for i in range(m):\n",
    "\n",
    "        f_wb = w*x[i] + b\n",
    "\n",
    "        cost = (f_wb - y[i]) ** 2\n",
    "        cost_sum += cost\n",
    "    \n",
    "    total_cost = 1/(2*m) * cost_sum\n",
    "\n",
    "    return total_cost"
   ]
  },
  {
   "cell_type": "code",
   "execution_count": 59,
   "id": "720f2ee2",
   "metadata": {},
   "outputs": [],
   "source": [
    "def compute_gradient(x, y, w, b):\n",
    "\n",
    "    m = x.shape[0]\n",
    "    dj_dw = 0\n",
    "    dj_db = 0\n",
    "\n",
    "    for i in range(m):\n",
    "\n",
    "        f_wb = w*x[i] + b\n",
    "\n",
    "        dj_dw_i = (f_wb - y[i])*x[i]\n",
    "        dj_db_i = (f_wb - y[i])\n",
    "\n",
    "        dj_dw += dj_dw_i\n",
    "        dj_db += dj_db_i\n",
    "    \n",
    "    dj_dw /= m\n",
    "    dj_db /= m\n",
    "\n",
    "    return dj_dw, dj_db"
   ]
  },
  {
   "cell_type": "code",
   "execution_count": 60,
   "id": "17616569",
   "metadata": {},
   "outputs": [],
   "source": [
    "def gradient_descent(x, y, w_in, b_in, alpha, epoch, J_hist):\n",
    "\n",
    "    w = w_in\n",
    "    b = b_in\n",
    "    J_hist = []\n",
    "\n",
    "    for i in range(epoch):\n",
    "\n",
    "        dj_dw, dj_db = compute_gradient(x, y, w, b)\n",
    "\n",
    "        w = w - alpha*dj_dw\n",
    "        b = b - alpha*dj_db\n",
    "    \n",
    "        if i < 100000:\n",
    "            J_hist.append(compute_cost(x, y, w, b))\n",
    "\n",
    "            if i % 1000 == 0:\n",
    "                print(f\"Cost: {J_hist[-1]}, w: {w}, b: {b}\")\n",
    "        \n",
    "    return w, b, J_hist"
   ]
  },
  {
   "cell_type": "code",
   "execution_count": 61,
   "id": "b1fbd9de",
   "metadata": {},
   "outputs": [
    {
     "name": "stdout",
     "output_type": "stream",
     "text": [
      "Cost: [0.49993955], w: [0.00077942], b: [-1.16977862e-18]\n",
      "Cost: [0.49696251], w: [0.07793882], b: [-1.01592962e-16]\n",
      "Cost: [0.49696251], w: [0.07794216], b: [-1.0386852e-16]\n",
      "Cost: [0.49696251], w: [0.07794216], b: [-1.22939644e-16]\n",
      "Cost: [0.49696251], w: [0.07794216], b: [-1.21864088e-16]\n",
      "Cost: [0.49696251], w: [0.07794216], b: [-1.21864088e-16]\n",
      "Cost: [0.49696251], w: [0.07794216], b: [-1.21864088e-16]\n",
      "Cost: [0.49696251], w: [0.07794216], b: [-1.21864088e-16]\n",
      "Cost: [0.49696251], w: [0.07794216], b: [-1.21864088e-16]\n",
      "Cost: [0.49696251], w: [0.07794216], b: [-1.21864088e-16]\n",
      "Cost: [0.49696251], w: [0.07794216], b: [-1.21864088e-16]\n",
      "Cost: [0.49696251], w: [0.07794216], b: [-1.21864088e-16]\n",
      "Cost: [0.49696251], w: [0.07794216], b: [-1.21864088e-16]\n",
      "Cost: [0.49696251], w: [0.07794216], b: [-1.21864088e-16]\n",
      "Cost: [0.49696251], w: [0.07794216], b: [-1.21864088e-16]\n",
      "Cost: [0.49696251], w: [0.07794216], b: [-1.21864088e-16]\n",
      "Cost: [0.49696251], w: [0.07794216], b: [-1.21864088e-16]\n",
      "Cost: [0.49696251], w: [0.07794216], b: [-1.21864088e-16]\n",
      "Cost: [0.49696251], w: [0.07794216], b: [-1.21864088e-16]\n",
      "Cost: [0.49696251], w: [0.07794216], b: [-1.21864088e-16]\n",
      "Cost: [0.49696251], w: [0.07794216], b: [-1.21864088e-16]\n",
      "Cost: [0.49696251], w: [0.07794216], b: [-1.21864088e-16]\n",
      "Cost: [0.49696251], w: [0.07794216], b: [-1.21864088e-16]\n",
      "Cost: [0.49696251], w: [0.07794216], b: [-1.21864088e-16]\n",
      "Cost: [0.49696251], w: [0.07794216], b: [-1.21864088e-16]\n",
      "Cost: [0.49696251], w: [0.07794216], b: [-1.21864088e-16]\n",
      "Cost: [0.49696251], w: [0.07794216], b: [-1.21864088e-16]\n",
      "Cost: [0.49696251], w: [0.07794216], b: [-1.21864088e-16]\n",
      "Cost: [0.49696251], w: [0.07794216], b: [-1.21864088e-16]\n",
      "Cost: [0.49696251], w: [0.07794216], b: [-1.21864088e-16]\n",
      "Cost: [0.49696251], w: [0.07794216], b: [-1.21864088e-16]\n",
      "Cost: [0.49696251], w: [0.07794216], b: [-1.21864088e-16]\n",
      "Cost: [0.49696251], w: [0.07794216], b: [-1.21864088e-16]\n",
      "Cost: [0.49696251], w: [0.07794216], b: [-1.21864088e-16]\n",
      "Cost: [0.49696251], w: [0.07794216], b: [-1.21864088e-16]\n",
      "Cost: [0.49696251], w: [0.07794216], b: [-1.21864088e-16]\n",
      "Cost: [0.49696251], w: [0.07794216], b: [-1.21864088e-16]\n",
      "Cost: [0.49696251], w: [0.07794216], b: [-1.21864088e-16]\n",
      "Cost: [0.49696251], w: [0.07794216], b: [-1.21864088e-16]\n",
      "Cost: [0.49696251], w: [0.07794216], b: [-1.21864088e-16]\n",
      "Cost: [0.49696251], w: [0.07794216], b: [-1.21864088e-16]\n",
      "Cost: [0.49696251], w: [0.07794216], b: [-1.21864088e-16]\n",
      "Cost: [0.49696251], w: [0.07794216], b: [-1.21864088e-16]\n",
      "Cost: [0.49696251], w: [0.07794216], b: [-1.21864088e-16]\n",
      "Cost: [0.49696251], w: [0.07794216], b: [-1.21864088e-16]\n",
      "Cost: [0.49696251], w: [0.07794216], b: [-1.21864088e-16]\n",
      "Cost: [0.49696251], w: [0.07794216], b: [-1.21864088e-16]\n",
      "Cost: [0.49696251], w: [0.07794216], b: [-1.21864088e-16]\n",
      "Cost: [0.49696251], w: [0.07794216], b: [-1.21864088e-16]\n",
      "Cost: [0.49696251], w: [0.07794216], b: [-1.21864088e-16]\n"
     ]
    }
   ],
   "source": [
    "w_initial = 0\n",
    "b_initial = 0\n",
    "alpha = 0.01\n",
    "epoch = 50000\n",
    "J_hist = []\n",
    "\n",
    "w, b, J_hist = gradient_descent(x_train, y_train, w_initial, b_initial, alpha, epoch, J_hist)\n"
   ]
  },
  {
   "cell_type": "code",
   "execution_count": 69,
   "id": "1147aea6",
   "metadata": {},
   "outputs": [],
   "source": [
    "def compute_output(x,y,w,b):\n",
    "\n",
    "    m = x.shape[0]\n",
    "    f_wb = np.zeros(m)\n",
    "\n",
    "    for i in range(m):\n",
    "\n",
    "        f_wb[i] = w*x[i] + b\n",
    "    \n",
    "    return f_wb"
   ]
  },
  {
   "cell_type": "code",
   "execution_count": 70,
   "id": "e475d3b0",
   "metadata": {},
   "outputs": [
    {
     "name": "stderr",
     "output_type": "stream",
     "text": [
      "/tmp/ipykernel_19443/1750375141.py:8: DeprecationWarning: Conversion of an array with ndim > 0 to a scalar is deprecated, and will error in future. Ensure you extract a single element from your array before performing this operation. (Deprecated NumPy 1.25.)\n",
      "  f_wb[i] = w*x[i] + b\n"
     ]
    },
    {
     "data": {
      "image/png": "[encoded data removed]",
      "text/plain": [
       "<Figure size 640x480 with 1 Axes>"
      ]
     },
     "metadata": {},
     "output_type": "display_data"
    }
   ],
   "source": [
    "f_wb = compute_output(x_train, y_train, w, b)\n",
    "\n",
    "plt.scatter(x_train, y_train, c = 'r', label = \"Actual housing price\")\n",
    "plt.xlabel(\"Feet^2\")\n",
    "plt.ylabel(\"Price in USD\")\n",
    "\n",
    "plt.plot(x_train, f_wb, c='b', label=\"Prediction\")\n",
    "plt.legend()\n",
    "plt.show()"
   ]
  },
  {
   "cell_type": "markdown",
   "id": "e212d23f",
   "metadata": {},
   "source": [
    "<h1> Overall, I can say that it doesn't really work for this dataset, but atleast I learned something new </h1>"
   ]
  }
 ],
 "metadata": {
  "kernelspec": {
   "display_name": "Python 3",
   "language": "python",
   "name": "python3"
  },
  "language_info": {
   "codemirror_mode": {
    "name": "ipython",
    "version": 3
   },
   "file_extension": ".py",
   "mimetype": "text/x-python",
   "name": "python",
   "nbconvert_exporter": "python",
   "pygments_lexer": "ipython3",
   "version": "3.9.2"
  }
 },
 "nbformat": 4,
 "nbformat_minor": 5
}
